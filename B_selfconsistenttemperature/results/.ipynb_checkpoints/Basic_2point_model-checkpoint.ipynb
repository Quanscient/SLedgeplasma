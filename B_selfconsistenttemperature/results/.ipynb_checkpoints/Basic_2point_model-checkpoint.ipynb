{
 "cells": [
  {
   "cell_type": "markdown",
   "metadata": {},
   "source": [
    "### THE \"BASIC TWO POINT MODEL\""
   ]
  },
  {
   "cell_type": "markdown",
   "metadata": {},
   "source": [
    "***\n",
    "##### WHAT IS IT ?"
   ]
  },
  {
   "cell_type": "markdown",
   "metadata": {},
   "source": [
    "***\n",
    "##### ANALYTICAL SOLUTION OF THE \"BASIC TWO POINT MODEL\""
   ]
  },
  {
   "cell_type": "markdown",
   "metadata": {},
   "source": [
    "* The two point model has the following three equations (Equations 5.4 - 5.6 from Peter Stangeby's):\n",
    "\n",
    "$$ PressureBalance: 2 \\, n_t \\, T_t = n_u \\, T_u $$\n",
    "$$ PowerBalance: T_u^{7/2} = T_t^{7/2} + \\frac{7}{2} \\frac{q_{\\|}L}{k_{0e}} $$\n",
    "$$ q_{\\|} = \\gamma \\, k \\, n_t \\, T_t \\, c_{st} $$\n",
    "\n",
    "* $n_t$ , $T_t$ , $T_u$ are the three unknowns.\n",
    "\n",
    "* $n_u$ and $q_{\\|}$ as specified control parameters, i.e., the independent variables.\n",
    "* $L$, $\\gamma$ and $κ_{0e}$ are specified constants of the problem.\n",
    "\n",
    "* In the above equation for heat flux $q_{\\|}$, the temperature must be provided in Kelvin. However, the plasma temperatures are usually described in $[eV]$.\n",
    "\n",
    "* Substituting $k \\cdot T_t [K] = e \\cdot T_t [eV]$, allows us to use temperature in the units of $[eV]$ while keeping the heat flux in $[J/m²s]$:\n",
    "$$ q_{\\|} = \\gamma \\, e \\, n_t \\, T_t \\, c_{st}$$\n",
    "\n",
    "* $e=1.6022 \\times 10^{-19}$ is the unit charge of electrons.\n",
    "\n",
    "* Acoustic speed at target:\n",
    "$$ c_{st} = \\sqrt{\\frac{2 \\, T_t}{m_i}} $$\n",
    "\n",
    "* Squaring the third equation above, substituting for $c_{st}$ and simplifying:\n",
    "$$ q_{\\|}^2 = (\\gamma \\, e \\, n_t \\, T_t \\, c_{st})^2 $$\n",
    "$$ q_{\\|}^2 = (\\gamma \\, e \\, n_t \\, T_t)^2 \\, (c_{st})^2 $$\n",
    "$$ q_{\\|}^2 = (\\gamma \\, e \\, n_t \\, T_t)^2 \\, \\left(\\frac{2 \\, T_t}{m_i}\\right)$$\n",
    "\n",
    "* Substituting the first equation in the above equation:\n",
    "$$ q_{\\|}^2 = \\left(\\gamma \\, e \\, \\frac{n_u \\, T_u}{2}\\right)^2 \\, \\left(\\frac{2 \\, T_t}{m_i}\\right)$$\n",
    "\n",
    "* Rearranging the above equation for the target temperature:\n",
    "$$ T_t = \\frac{m_i}{2} \\left(\\frac{2 \\, q_{\\|}}{\\gamma \\, e \\, n_u \\, T_u}\\right)^2 $$\n",
    "\n",
    "\n",
    "* So we end up with two implicit nonlinear functions for upstream and target temperatures:\n",
    "$$ T_u^{7/2} = T_t^{7/2} + \\frac{7}{2} \\frac{q_{\\|}L}{k_{0e}} $$\n",
    "$$ T_t = \\frac{m_i}{2} \\left(\\frac{2 \\, q_{\\|}}{\\gamma \\, e \\, n_u \\, T_u}\\right)^2 $$"
   ]
  },
  {
   "cell_type": "markdown",
   "metadata": {},
   "source": [
    "***\n",
    "##### How is it solved ?\n",
    "\n",
    "* An iterative solution is required to obtain the upstream and target temperatures.\n",
    "\n",
    "* **Step 1:** $T_t$ is assumed to be $0$. Thus, the predicted upstream temperature is,\n",
    "$$ T_u^{7/2} \\simeq \\frac{7}{2} \\frac{q_{\\|} \\, L}{k_{0e}} $$\n",
    "$$ T_u \\simeq \\left(\\frac{7}{2} \\frac{q_{\\|} \\, L}{k_{0e}}\\right)^{2/7} $$\n",
    "\n",
    "* **Step 2:** The predicted $T_u$ is plugged in to the $T_t$ equation.\n",
    "$$ T_t = \\frac{m_i}{2} \\left(\\frac{2 \\, q_{\\|}}{\\gamma \\, e \\, n_u \\, T_u}\\right)^2 $$\n",
    "\n",
    "* **Step 3:** With the obtained $T_t$ value, the $T_u$ is corrected\n",
    "$$ T_u^{7/2} = T_t^{7/2} + \\frac{7}{2} \\frac{q_{\\|}L}{k_{0e}} $$\n",
    "\n",
    "* **Step 4:** Step 2 and 3 are repeated until convergence is achieved.\n",
    "\n",
    "* Once we have the values for $T_u$ and $T_t$, we can calculate $n_t$\n",
    "$$ n_t = \\frac{n_u \\, T_u}{2 \\, T_t} $$"
   ]
  },
  {
   "cell_type": "markdown",
   "metadata": {},
   "source": [
    "***\n",
    "##### Temperature profile\n",
    "\n",
    "* Once the upstream temperature is obtained, the Temperature profile can be calculated using the following equation (Equation 4.85 from Peter Stangeby's)\n",
    "\n",
    "$$ T(x) = \\left[T_u^{7/2} - \\frac{7}{2} \\frac{q_{\\|}}{k_{0e}} \\, x\\right]^{2/7} $$"
   ]
  },
  {
   "cell_type": "markdown",
   "metadata": {},
   "source": [
    "***"
   ]
  },
  {
   "cell_type": "code",
   "execution_count": null,
   "metadata": {},
   "outputs": [],
   "source": [
    "import numpy as np\n",
    "import matplotlib.pyplot as plt"
   ]
  },
  {
   "cell_type": "markdown",
   "metadata": {},
   "source": [
    "***\n",
    "CONSTANTS"
   ]
  },
  {
   "cell_type": "code",
   "execution_count": 1,
   "metadata": {},
   "outputs": [],
   "source": [
    "# GLOBAL CONSTANTS\n",
    "c   = 3e+8                      # speed of light [m/s]\n",
    "e   = 1.6022e-19                # unit charge of electrons\n",
    "\n",
    "# PROBLEM CONSTANTS\n",
    "# L     = 100                     # length of the SOL [m]\n",
    "# gamma = 7                       # heat transmission coefficient\n",
    "# k0e   = 2000                    # coefficient occuring in plasma heat conduction\n",
    "# m_i   = 2 * 938.272e+6 / (c*c)  # mass of D+ ion [eV/c²]. it is twice that of proton\n",
    "# nu    = 3e19        # upstream density [1/m³]\n",
    "# q_sol = 1e8         # upstream heat flux entering the SOL [W/m²]\n",
    "\n",
    "L     = 100                     # length of the SOL [m]\n",
    "gamma = 7                     # heat transmission coefficient\n",
    "k0e   = 2000                    # coefficient occuring in plasma heat conduction\n",
    "m_i   = 2 * 938.272e+6 / (c*c)  # mass of proton [eV/c²].\n",
    "nu    = 3e19        # upstream density [1/m³]\n",
    "q_sol = 1e8         # upstream heat flux entering the SOL [W/m²]"
   ]
  },
  {
   "cell_type": "markdown",
   "metadata": {},
   "source": [
    "***\n",
    "DEFINE EXPRESSIONS"
   ]
  },
  {
   "cell_type": "code",
   "execution_count": 2,
   "metadata": {},
   "outputs": [],
   "source": [
    "def calculate_Tu(Tt, q, L):\n",
    "    \"\"\"Upstream temperature\"\"\"\n",
    "    return (Tt**(7/2) + (7/2)*(q/k0e)*L)**(2/7)\n",
    "\n",
    "def calculate_Tt(mi, q, gamma, nu, Tu):\n",
    "    \"\"\"Target temperature\"\"\"\n",
    "    return (mi/2) * ((2*q)/(gamma*e*nu*Tu))**2\n",
    "\n",
    "def calculate_T(Tu, q, x):\n",
    "    \"\"\"Temperature as function of distance\"\"\"\n",
    "    return (Tu**(7/2.0) - (7/2.0)*(q/k0e)*x)**(2.0/7)\n",
    "\n",
    "def calculate_nt(nu, Tu, Tt):\n",
    "    \"\"\"Target density\"\"\"\n",
    "    return nu*Tu / (2*Tt)\n",
    "\n",
    "def calculate_cs(T, mi):\n",
    "    \"\"\"acosutic speed\"\"\"\n",
    "    return (2*T/mi)**(1/2)\n",
    "\n",
    "def calculate_qse(gamma, nt, Tt, mi):\n",
    "    \"\"\"sheath heat flux\"\"\"\n",
    "    c_st = calculate_cs(Tt, mi)\n",
    "    return gamma * e * nt * Tt * c_st"
   ]
  },
  {
   "cell_type": "markdown",
   "metadata": {},
   "source": [
    "***\n",
    "Solve for upstream and target temperatures"
   ]
  },
  {
   "cell_type": "code",
   "execution_count": 3,
   "metadata": {},
   "outputs": [
    {
     "name": "stdout",
     "output_type": "stream",
     "text": [
      "0: [T_upstream, T_target] = [158.58122495128958, 1464.7741177251432]\n",
      "1: [T_upstream, T_target] = [1073.3422560374008, 31.974056593041286]\n",
      "2: [T_upstream, T_target] = [480.6317398716888, 159.45909660782135]\n",
      "3: [T_upstream, T_target] = [314.8355142823839, 371.6265741684719]\n",
      "4: [T_upstream, T_target] = [366.9800672623043, 273.52009713335127]\n",
      "5: [T_upstream, T_target] = [325.771967036486, 347.0937340290681]\n",
      "6: [T_upstream, T_target] = [355.1795259689181, 291.9969716442343]\n",
      "7: [T_upstream, T_target] = [332.09686194814276, 333.9986028548033]\n",
      "8: [T_upstream, T_target] = [349.2172989326087, 302.05268184499334]\n",
      "9: [T_upstream, T_target] = [335.87846770711997, 326.52005981731946]\n",
      "10: [T_upstream, T_target] = [345.9319367604545, 307.8171956201312]\n",
      "11: [T_upstream, T_target] = [338.1434614877513, 322.16043697430047]\n",
      "12: [T_upstream, T_target] = [344.05989520633267, 311.17599609596067]\n",
      "13: [T_upstream, T_target] = [339.4940064199909, 319.6023551535377]\n",
      "14: [T_upstream, T_target] = [342.97688639873576, 313.1442827984468]\n",
      "15: [T_upstream, T_target] = [340.29563140402837, 318.09837187451643]\n",
      "16: [T_upstream, T_target] = [342.34561519901325, 314.3001978400691]\n",
      "17: [T_upstream, T_target] = [340.7698446024144, 317.2136604469829]\n",
      "18: [T_upstream, T_target] = [341.9761917762926, 314.9796168879156]\n",
      "19: [T_upstream, T_target] = [341.0497511272241, 316.69318660370055]\n",
      "20: [T_upstream, T_target] = [341.75953068583414, 315.3791109940812]\n",
      "21: [T_upstream, T_target] = [341.214737973446, 316.38700066243234]\n",
      "22: [T_upstream, T_target] = [341.63230567399717, 315.61405120107764]\n",
      "23: [T_upstream, T_target] = [341.31190481409465, 316.206884183148]\n",
      "24: [T_upstream, T_target] = [341.55754536744746, 315.752229881811]\n",
      "25: [T_upstream, T_target] = [341.36910088569766, 316.1009327281775]\n",
      "26: [T_upstream, T_target] = [341.5135965127998, 315.83350243961826]\n",
      "27: [T_upstream, T_target] = [341.40275847378916, 316.03860944410104]\n",
      "28: [T_upstream, T_target] = [341.48775441412573, 315.88130567268524]\n",
      "29: [T_upstream, T_target] = [341.4225610638212, 316.00194987770476]\n",
      "30: [T_upstream, T_target] = [341.472557035024, 315.90942315785475]\n",
      "31: [T_upstream, T_target] = [341.4342107724367, 315.9803863218659]\n",
      "32: [T_upstream, T_target] = [341.4636189350746, 315.9259617686936]\n",
      "33: [T_upstream, T_target] = [341.441063777354, 315.96770247308433]\n",
      "34: [T_upstream, T_target] = [341.4583618789405, 315.9356897676869]\n",
      "35: [T_upstream, T_target] = [341.4450949469502, 315.96024176039265]\n",
      "36: [T_upstream, T_target] = [341.4552697876957, 315.9414117845359]\n",
      "37: [T_upstream, T_target] = [341.4474661661576, 315.9558533348409]\n",
      "38: [T_upstream, T_target] = [341.4534510536115, 315.94477748456205]\n",
      "39: [T_upstream, T_target] = [341.448860949691, 315.95327204568264]\n",
      "40: [T_upstream, T_target] = [341.45238128375905, 315.94675719679117]\n",
      "41: [T_upstream, T_target] = [341.4496813742774, 315.95175372227936]\n",
      "42: [T_upstream, T_target] = [341.45175204712467, 315.9479216685277]\n",
      "43: [T_upstream, T_target] = [341.45016395348847, 315.950860639444]\n",
      "44: [T_upstream, T_target] = [341.45138193005755, 315.9486066139559]\n",
      "45: [T_upstream, T_target] = [341.45044780906176, 315.95033532529675]\n",
      "46: [T_upstream, T_target] = [341.4511642267195, 315.9490095007838]\n",
      "47: [T_upstream, T_target] = [341.450614774115, 315.9500263338972]\n",
      "48: [T_upstream, T_target] = [341.4510361731846, 315.9492464799746]\n",
      "49: [T_upstream, T_target] = [341.4507129835802, 315.94984458421874]\n",
      "50: [T_upstream, T_target] = [341.45096085178966, 315.94938587182486]\n",
      "51: [T_upstream, T_target] = [341.45077075072237, 315.9497376785116]\n",
      "52: [T_upstream, T_target] = [341.45091654754737, 315.9494678625203]\n",
      "53: [T_upstream, T_target] = [341.4508047295417, 315.9496747962553]\n",
      "54: [T_upstream, T_target] = [341.45089048766965, 315.94951608968864]\n",
      "55: [T_upstream, T_target] = [341.4508247159891, 315.9496378087249]\n",
      "56: [T_upstream, T_target] = [341.4508751591754, 315.9495444570516]\n",
      "57: [T_upstream, T_target] = [341.4508364720785, 315.9496160525496]\n",
      "58: [T_upstream, T_target] = [341.4508661429106, 315.94956114281854]\n",
      "59: [T_upstream, T_target] = [341.45084338704584, 315.9496032555026]\n",
      "60: [T_upstream, T_target] = [341.4508608395174, 315.949570957436]\n",
      "61: [T_upstream, T_target] = [341.4508474544503, 315.9495957282416]\n",
      "62: [T_upstream, T_target] = [341.45085772004586, 315.94957673042313]\n",
      "63: [T_upstream, T_target] = [341.4508498469098, 315.9495913006843]\n",
      "64: [T_upstream, T_target] = [341.4508558851635, 315.9495801261113]\n",
      "65: [T_upstream, T_target] = [341.4508512541616, 315.94958869638197]\n",
      "66: [T_upstream, T_target] = [341.4508548058803, 315.94958212346506]\n",
      "67: [T_upstream, T_target] = [341.45085208191125, 315.9495871645237]\n",
      "68: [T_upstream, T_target] = [341.4508541710427, 315.94958329831445]\n",
      "69: [T_upstream, T_target] = [341.450852568796, 315.94958626348006]\n",
      "70: [T_upstream, T_target] = [341.45085379762935, 315.9495839893643]\n",
      "71: [T_upstream, T_target] = [341.4508528551831, 315.9495857334835]\n",
      "72: [T_upstream, T_target] = [341.45085357798644, 315.9495843958421]\n",
      "73: [T_upstream, T_target] = [341.4508530236369, 315.94958542173794]\n",
      "74: [T_upstream, T_target] = [341.4508534487919, 315.94958463493333]\n",
      "75: [T_upstream, T_target] = [341.45085312272187, 315.9495852383684]\n",
      "76: [T_upstream, T_target] = [341.4508533727993, 315.9495847755676]\n",
      "77: [T_upstream, T_target] = [341.45085318100394, 315.9495851305098]\n",
      "78: [T_upstream, T_target] = [341.45085332810015, 315.9495848582892]\n",
      "79: [T_upstream, T_target] = [341.4508532152857, 315.949585067067]\n",
      "80: [T_upstream, T_target] = [341.4508533018081, 315.94958490694603]\n",
      "81: [T_upstream, T_target] = [341.4508532354502, 315.94958502974987]\n",
      "82: [T_upstream, T_target] = [341.450853286343, 315.9495849355661]\n",
      "83: [T_upstream, T_target] = [341.45085324731104, 315.9495850077998]\n",
      "84: [T_upstream, T_target] = [341.4508532772463, 315.94958495240076]\n",
      "85: [T_upstream, T_target] = [341.4508532542877, 315.9495849948887]\n",
      "86: [T_upstream, T_target] = [341.4508532718957, 315.9495849623027]\n",
      "87: [T_upstream, T_target] = [341.45085325839125, 315.9495849872945]\n",
      "88: [T_upstream, T_target] = [341.45085326874846, 315.9495849681271]\n",
      "89: [T_upstream, T_target] = [341.45085326080505, 315.94958498282745]\n",
      "90: [T_upstream, T_target] = [341.45085326689724, 315.949584971553]\n"
     ]
    }
   ],
   "source": [
    "tol = 1e-8\n",
    "isconverged = False\n",
    "max_iter = 1000\n",
    "\n",
    "iter = 0\n",
    "w = 0.70\n",
    "\n",
    "# initialize the temperatures\n",
    "Tu_curr = 0.0; Tu_prev = 0.0\n",
    "Tt_curr = 0.0; Tt_prev = 0.0\n",
    "\n",
    "while (isconverged==False and iter<max_iter):\n",
    "    # Upstream temperature\n",
    "    Tu_pred = calculate_Tu(Tt_prev, q_sol, L)                 # predict\n",
    "    Tu_curr = Tu_pred*w + Tu_prev*(1-w)  # relax\n",
    "\n",
    "    # Target temperature\n",
    "    Tt_curr = calculate_Tt(m_i, q_sol, gamma, nu, Tu_curr)\n",
    "\n",
    "    print(f\"{iter}: [T_upstream, T_target] = [{Tu_curr}, {Tt_curr}]\")\n",
    "\n",
    "    # check convergence\n",
    "    isconverged = ((Tu_curr - Tu_prev)<1e-8) and ((Tt_curr - Tt_prev)<1e-8)\n",
    "\n",
    "    # for next iteration\n",
    "    Tu_prev = Tu_curr\n",
    "    Tt_prev = Tt_curr\n",
    "    iter += 1"
   ]
  },
  {
   "cell_type": "markdown",
   "metadata": {},
   "source": [
    "***\n",
    "Solve for target density"
   ]
  },
  {
   "cell_type": "code",
   "execution_count": null,
   "metadata": {},
   "outputs": [],
   "source": [
    "nt = calculate_nt(nu, Tu_curr, Tt_curr)\n",
    "nt"
   ]
  },
  {
   "cell_type": "markdown",
   "metadata": {},
   "source": [
    "***\n",
    "Post processing"
   ]
  },
  {
   "cell_type": "code",
   "execution_count": null,
   "metadata": {},
   "outputs": [],
   "source": [
    "q_se = calculate_qse(gamma, nt, Tt_curr, m_i)   # heat flux at sheath edge\n",
    "q_se    # should be equal to q_sol"
   ]
  },
  {
   "cell_type": "markdown",
   "metadata": {},
   "source": [
    "***\n",
    "FEM vs Analytical"
   ]
  },
  {
   "cell_type": "code",
   "execution_count": null,
   "metadata": {},
   "outputs": [],
   "source": [
    "%matplotlib widget\n",
    "\n",
    "n_points = 1001\n",
    "x = np.linspace(0.0,L, n_points)\n",
    "\n",
    "# Tu = \n",
    "# q  = 1e8\n",
    "\n",
    "# T0 = np.asarray([calculate_T(Tu, q, x_) for x_ in x])\n",
    "\n",
    "# fig, ax = plt.subplots(1, 1, figsize=(16,8))\n",
    "\n",
    "# # T(x) plot\n",
    "# ax.plot(L-x, T0, color=\"tab:red\", linestyle=\"solid\", linewidth=2, label=\"$q_{\\parallel}=10^7$\")\n",
    "# ax.plot(L-x, T1, color=\"tab:blue\", linestyle=\"solid\", linewidth=2, label=\"$q_{\\parallel}=10^8$\")\n",
    "# ax.plot(L-x, T2/3, color=\"tab:green\", linestyle=\"solid\", linewidth=2, label=\"$q_{\\parallel}=10^9$\")\n",
    "# ax.scatter(L-x[-1], T0[-1], 70, color=\"black\")\n",
    "# ax.scatter(L-x[-1], T1[-1], 70, color=\"black\")\n",
    "# ax.scatter(L-x[-1], T2[-1]/3, 70, color=\"black\")\n",
    "\n",
    "\n",
    "# # Common configurations\n",
    "# # ax.set_title(\"T(x)\", fontsize=24)\n",
    "# ax.legend(fontsize=18)\n",
    "# ax.tick_params(axis='x', labelsize=20)\n",
    "# ax.tick_params(axis='y', labelsize=20)\n",
    "# ax.set_xlabel(\"$(L-x) \\\\ [m]$\", fontsize=22)\n",
    "# ax.set_ylabel(\"$T \\\\ [eV]$\",fontsize=22)\n",
    "# ax.grid()\n",
    "\n",
    "# ax.axvline(x=0, linestyle=\"dashed\", color=\"green\")\n",
    "# ax.axvline(x=100, linestyle=\"dashed\", color=\"green\")\n",
    "\n",
    "# ax.annotate(\"target\", xy=(0,40), xytext=(-2.2,41), rotation=90, fontsize=16)\n",
    "# ax.annotate(\"upstream\", xy=(100,40), xytext=(100,41), rotation=90, fontsize=16)\n",
    "# ax.annotate(\"mult. x3\", xy=(20,107), xytext=(25,115), rotation=0, fontsize=16, arrowprops=dict(arrowstyle=\"->\", connectionstyle=\"arc3\"))\n",
    "\n",
    "# plt.ylim([-10,140])\n",
    "\n",
    "# fig.suptitle(\"Basic Two Point Model of SOL\", fontsize=22)\n",
    "# fig.savefig(f\"T_2pointmodel_4.17.svg\")\n",
    "# fig.savefig(f\"T_2pointmodel_4.17.png\")\n",
    "# plt.show()"
   ]
  },
  {
   "cell_type": "markdown",
   "metadata": {},
   "source": [
    "***\n",
    "End temperatures for different heat flux\n",
    "\n",
    "| q_sol       | Tu in 4.12  | Tt in 4.12 | Tu in here               | Tt in here         \n",
    "| :---------: | ----------: | ----------:| ------------------------:| ------------------: \n",
    "| $10^7$      | 61          | 1          | 60.77503631182729        | 0.9972952255122447       \n",
    "| $10^8$      | 117         | 27         | 117.5254902712442        | 26.66920383471329     \n",
    "| $10^9$      | 342         | 317        | 341.45085326891206       | 315.9495849678243         "
   ]
  },
  {
   "cell_type": "code",
   "execution_count": null,
   "metadata": {},
   "outputs": [],
   "source": [
    "q_sol_list = np.asarray([1e7, 1e8, 1e9])\n",
    "Tu_list = np.asarray([60.77503631182729, 117.5254902712442, 341.45085326891206])\n",
    "Tt_list = np.asarray([0.9972952255122447, 26.66920383471329, 315.9495849678243])"
   ]
  },
  {
   "cell_type": "code",
   "execution_count": null,
   "metadata": {},
   "outputs": [],
   "source": [
    "i = 1;\n",
    "calculate_T(Tu_list[i], q_sol_list[i], 100)"
   ]
  },
  {
   "cell_type": "markdown",
   "metadata": {},
   "source": [
    "***\n",
    "Temperature profile plot"
   ]
  },
  {
   "cell_type": "code",
   "execution_count": null,
   "metadata": {},
   "outputs": [],
   "source": [
    "%matplotlib widget\n",
    "\n",
    "n_points = 1001\n",
    "L=100\n",
    "x = np.linspace(0.0,L, n_points)\n",
    "\n",
    "T0 = np.asarray([calculate_T(Tu_list[0], q_sol_list[0], x_) for x_ in x]) # corresponds to q_sol=1e7\n",
    "T1 = np.asarray([calculate_T(Tu_list[1], q_sol_list[1], x_) for x_ in x]) # corresponds to q_sol=1e8\n",
    "T2 = np.asarray([calculate_T(Tu_list[2], q_sol_list[2], x_) for x_ in x]) # corresponds to q_sol=1e9\n",
    "\n",
    "fig, ax = plt.subplots(1, 1, figsize=(16,8))\n",
    "\n",
    "# T(x) plot\n",
    "ax.plot(L-x, T0, color=\"tab:red\", linestyle=\"solid\", linewidth=2, label=\"$q_{\\parallel}=10^7$\")\n",
    "ax.plot(L-x, T1, color=\"tab:blue\", linestyle=\"solid\", linewidth=2, label=\"$q_{\\parallel}=10^8$\")\n",
    "ax.plot(L-x, T2/3, color=\"tab:green\", linestyle=\"solid\", linewidth=2, label=\"$q_{\\parallel}=10^9$\")\n",
    "ax.scatter(L-x[-1], T0[-1], 70, color=\"black\")\n",
    "ax.scatter(L-x[-1], T1[-1], 70, color=\"black\")\n",
    "ax.scatter(L-x[-1], T2[-1]/3, 70, color=\"black\")\n",
    "\n",
    "\n",
    "# Common configurations\n",
    "# ax.set_title(\"T(x)\", fontsize=24)\n",
    "ax.legend(fontsize=18)\n",
    "ax.tick_params(axis='x', labelsize=20)\n",
    "ax.tick_params(axis='y', labelsize=20)\n",
    "ax.set_xlabel(\"$(L-x) \\\\ [m]$\", fontsize=22)\n",
    "ax.set_ylabel(\"$T \\\\ [eV]$\",fontsize=22)\n",
    "ax.grid()\n",
    "\n",
    "ax.axvline(x=0, linestyle=\"dashed\", color=\"green\")\n",
    "ax.axvline(x=100, linestyle=\"dashed\", color=\"green\")\n",
    "\n",
    "ax.annotate(\"target\", xy=(0,40), xytext=(-2.2,41), rotation=90, fontsize=16)\n",
    "ax.annotate(\"upstream\", xy=(100,40), xytext=(100,41), rotation=90, fontsize=16)\n",
    "ax.annotate(\"mult. x3\", xy=(20,107), xytext=(25,115), rotation=0, fontsize=16, arrowprops=dict(arrowstyle=\"->\", connectionstyle=\"arc3\"))\n",
    "\n",
    "plt.ylim([-10,140])\n",
    "\n",
    "fig.suptitle(\"Basic Two Point Model of SOL\", fontsize=22)\n",
    "fig.savefig(f\"T_2pointmodel_4.17.svg\")\n",
    "fig.savefig(f\"T_2pointmodel_4.17.png\")\n",
    "plt.show()"
   ]
  },
  {
   "cell_type": "code",
   "execution_count": null,
   "metadata": {},
   "outputs": [],
   "source": []
  }
 ],
 "metadata": {
  "kernelspec": {
   "display_name": "Python 3 (ipykernel)",
   "language": "python",
   "name": "python3"
  },
  "language_info": {
   "codemirror_mode": {
    "name": "ipython",
    "version": 3
   },
   "file_extension": ".py",
   "mimetype": "text/x-python",
   "name": "python",
   "nbconvert_exporter": "python",
   "pygments_lexer": "ipython3",
   "version": "3.8.10"
  },
  "vscode": {
   "interpreter": {
    "hash": "916dbcbb3f70747c44a77c7bcd40155683ae19c65e1c03b4aa3499c5328201f1"
   }
  }
 },
 "nbformat": 4,
 "nbformat_minor": 2
}
