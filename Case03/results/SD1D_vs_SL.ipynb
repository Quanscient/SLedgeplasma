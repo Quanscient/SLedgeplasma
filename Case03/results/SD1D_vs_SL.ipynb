{
 "cells": [
  {
   "cell_type": "code",
   "execution_count": 1,
   "id": "f99c2304",
   "metadata": {},
   "outputs": [],
   "source": [
    "import numpy as np\n",
    "from scipy.optimize import fsolve\n",
    "import matplotlib.pyplot as plt\n",
    "import os\n",
    "import pandas as pd"
   ]
  },
  {
   "cell_type": "code",
   "execution_count": 3,
   "id": "6c36636f",
   "metadata": {},
   "outputs": [],
   "source": [
    "outputfile_SD1D = \"outputSD1D_case-03_qcond.csv\"\n",
    "\n",
    "# Normalization values used in SD1D\n",
    "nnorm = 1e+20             # 1/m^3\n",
    "tnorm = 100.0             # eV\n",
    "pnorm = 1602.176          # Pa\n",
    "cs0   = 69205.61141651045 # m/s\n",
    "\n",
    "# Data from SD1D simulation\n",
    "df1 = pd.read_csv(os.path.abspath(outputfile_SD1D), skiprows=7)\n",
    "X1 = df1.get(\"ypos\")\n",
    "M1 = df1.get(\"M\")\n",
    "N1 = df1.get(\"Ne\")\n",
    "T1 = df1.get(\"Te\")*tnorm\n",
    "P1 = df1.get(\"P\")*tnorm\n",
    "\n",
    "# Data from Sparselizard simulation\n",
    "X2 = pd.read_csv(os.path.abspath(\"M.csv\")).get(\"arc_length\")\n",
    "M2 = pd.read_csv(os.path.abspath(\"M.csv\")).get(\"M\")\n",
    "N2 = pd.read_csv(os.path.abspath(\"N.csv\")).get(\"N\")\n",
    "T2 = pd.read_csv(os.path.abspath(\"T.csv\")).get(\"T\")\n",
    "P2 = 2*N2*T2\n"
   ]
  },
  {
   "cell_type": "code",
   "execution_count": 1,
   "id": "504f3528-74ef-467f-a1de-9f4422458949",
   "metadata": {},
   "outputs": [
    {
     "ename": "NameError",
     "evalue": "name 'plt' is not defined",
     "output_type": "error",
     "traceback": [
      "\u001b[0;31m---------------------------------------------------------------------------\u001b[0m",
      "\u001b[0;31mNameError\u001b[0m                                 Traceback (most recent call last)",
      "Cell \u001b[0;32mIn[1], line 3\u001b[0m\n\u001b[1;32m      1\u001b[0m \u001b[38;5;66;03m#%matplotlib widget\u001b[39;00m\n\u001b[0;32m----> 3\u001b[0m fig, ((ax1,ax2), (ax3,ax4)) \u001b[38;5;241m=\u001b[39m \u001b[43mplt\u001b[49m\u001b[38;5;241m.\u001b[39msubplots(\u001b[38;5;241m2\u001b[39m, \u001b[38;5;241m2\u001b[39m, figsize\u001b[38;5;241m=\u001b[39m(\u001b[38;5;241m18\u001b[39m,\u001b[38;5;241m12\u001b[39m), sharex\u001b[38;5;241m=\u001b[39m\u001b[38;5;28;01mTrue\u001b[39;00m)\n\u001b[1;32m      5\u001b[0m \u001b[38;5;66;03m# M plot\u001b[39;00m\n\u001b[1;32m      6\u001b[0m ax1\u001b[38;5;241m.\u001b[39mplot(X2, M2, color\u001b[38;5;241m=\u001b[39m\u001b[38;5;124m\"\u001b[39m\u001b[38;5;124m#6240D0\u001b[39m\u001b[38;5;124m\"\u001b[39m, linestyle\u001b[38;5;241m=\u001b[39m\u001b[38;5;124m\"\u001b[39m\u001b[38;5;124msolid\u001b[39m\u001b[38;5;124m\"\u001b[39m, linewidth\u001b[38;5;241m=\u001b[39m\u001b[38;5;241m2\u001b[39m, label\u001b[38;5;241m=\u001b[39m\u001b[38;5;124m\"\u001b[39m\u001b[38;5;124msparselizard FEM\u001b[39m\u001b[38;5;124m\"\u001b[39m)\n",
      "\u001b[0;31mNameError\u001b[0m: name 'plt' is not defined"
     ]
    }
   ],
   "source": [
    "%matplotlib widget\n",
    "\n",
    "fig, ((ax1,ax2), (ax3,ax4)) = plt.subplots(2, 2, figsize=(18,12), sharex=True)\n",
    " \n",
    "# M plot\n",
    "ax1.plot(X2, M2, color=\"#6240D0\", linestyle=\"solid\", linewidth=2, label=\"sparselizard FEM\")\n",
    "ax1.plot(X1, M1, color=\"green\", linestyle=\"dotted\", linewidth=2.5, label=\"SD1D\", marker=\"o\", markevery=10, ms=5, mfc='r')\n",
    "ax1.plot(X1[-1:], M1[-1:], marker=\"o\", markevery=1, ms=5, mfc='r') # last point\n",
    "\n",
    "# N plot\n",
    "ax2.plot(X2, N2, color=\"#6240D0\", linestyle=\"solid\", linewidth=2, label=\"sparselizard FEM\")\n",
    "ax2.plot(X1, N1, color=\"green\", linestyle=\"dotted\", linewidth=2.5, label=\"SD1D\", marker=\"o\", markevery=10, ms=5, mfc='r')\n",
    "ax2.plot(X1[-1:], N1[-1:], marker=\"o\", markevery=1, ms=5, mfc='r') # last point\n",
    "\n",
    "# T plot\n",
    "ax3.plot(X2, T2, color=\"#6240D0\", linestyle=\"solid\", linewidth=2, label=\"sparselizard FEM\")\n",
    "ax3.plot(X1, T1, color=\"green\", linestyle=\"dotted\", linewidth=2.5, label=\"SD1D\", marker=\"o\", markevery=10, ms = 5, mfc = 'r')\n",
    "ax3.plot(X1[-1:], T1[-1:], marker=\"o\", markevery=1, ms=5, mfc='r') # last point\n",
    "\n",
    "# Nn plot\n",
    "ax4.plot(X2, P2, color=\"#6240D0\", linestyle=\"solid\", linewidth=2, label=\"sparselizard FEM\")\n",
    "ax4.plot(X1, P1, color=\"green\", linestyle=\"dotted\", linewidth=2.5, label=\"SD1D\", marker=\"o\", markevery=10, ms=5, mfc='r')\n",
    "ax4.plot(X1[-1:], P1[-1:], marker=\"o\", markevery=1, ms=5, mfc='r') # last point\n",
    "\n",
    "for ax in [ax1, ax2, ax3, ax4]:\n",
    "    #ax.legend(fontsize=20)\n",
    "    ax.tick_params(axis='x', labelsize=20)\n",
    "    ax.tick_params(axis='y', labelsize=20)\n",
    "    ax.grid()\n",
    "\n",
    "for ax in [ax3, ax4]:\n",
    "    ax.set_xlabel(\"x $[m]$\", fontsize=22)\n",
    "\n",
    "ax1.set_ylabel(\"$M$\", fontsize=22)\n",
    "ax2.set_ylabel(\"$N$\", fontsize=22)\n",
    "ax3.set_ylabel(\"$T$ [eV]\", fontsize=22)\n",
    "ax4.set_ylabel(\"$P$\", fontsize=22)\n",
    "\n",
    "subplot_labels = [ax.get_legend_handles_labels() for ax in fig.axes[:1]]\n",
    "subplots, labels = [sum(lol, []) for lol in zip(*subplot_labels)]\n",
    "fig.legend(subplots, labels, loc='upper center', ncol=2, fontsize=24)\n",
    "\n",
    "# set the spacing between subplots\n",
    "plt.subplots_adjust(wspace=0.25, hspace=0.1) # or\n",
    "#fig.tight_layout()\n",
    "\n",
    "fig.savefig(\"SD1D_Sparselizard_verification_modified_Case03.png\", bbox_inches='tight')\n",
    "fig.savefig(\"SD1D_Sparselizard_verification_modified_Case03.svg\", bbox_inches='tight')\n",
    "plt.show()"
   ]
  },
  {
   "cell_type": "code",
   "execution_count": null,
   "id": "f21f0d27-7465-4146-9ff9-340ef7d19c8b",
   "metadata": {},
   "outputs": [],
   "source": []
  }
 ],
 "metadata": {
  "kernelspec": {
   "display_name": "Python 3 (ipykernel)",
   "language": "python",
   "name": "python3"
  },
  "language_info": {
   "codemirror_mode": {
    "name": "ipython",
    "version": 3
   },
   "file_extension": ".py",
   "mimetype": "text/x-python",
   "name": "python",
   "nbconvert_exporter": "python",
   "pygments_lexer": "ipython3",
   "version": "3.10.12"
  }
 },
 "nbformat": 4,
 "nbformat_minor": 5
}
